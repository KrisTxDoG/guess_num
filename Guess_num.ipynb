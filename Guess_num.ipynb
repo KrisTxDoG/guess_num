{
 "cells": [
  {
   "cell_type": "code",
   "execution_count": 11,
   "metadata": {},
   "outputs": [
    {
     "name": "stdout",
     "output_type": "stream",
     "text": [
      "67\n"
     ]
    }
   ],
   "source": [
    "import random\n",
    "\n",
    "r = random.randint(1,100) # 隨機整數\n",
    "\n",
    "print(r)"
   ]
  },
  {
   "cell_type": "code",
   "execution_count": 3,
   "metadata": {},
   "outputs": [
    {
     "name": "stdout",
     "output_type": "stream",
     "text": [
      "請決定隨機數字範圍開始值12\n",
      "請決定隨機數字範圍結束值15\n",
      "請猜數字：13\n",
      "比答案小\n",
      "這是你的第 1 次猜測\n",
      "請猜數字：14\n",
      "你猜中了!\n",
      "這是你的第 2 次猜測\n"
     ]
    }
   ],
   "source": [
    "# 猜數字遊戲\n",
    "\n",
    "import random\n",
    "\n",
    "start = input('請決定隨機數字範圍開始值')\n",
    "end = input('請決定隨機數字範圍結束值')\n",
    "start = int(start)\n",
    "end = int(end)\n",
    "\n",
    "\n",
    "\n",
    "count = 0\n",
    "r = random.randint(start, end)\n",
    "\n",
    "while True :\n",
    "    count += 1\n",
    "    num = input('請猜數字：')\n",
    "    num = int(num)\n",
    "    \n",
    "    if num == r:\n",
    "        print('你猜中了!')\n",
    "        print('這是你的第',count,'次猜測')\n",
    "        break\n",
    "    elif num > r :\n",
    "        print('比答案大')\n",
    "    elif num < r :\n",
    "        print('比答案小')\n",
    "    print('這是你的第',count,'次猜測')\n",
    "        "
   ]
  },
  {
   "cell_type": "code",
   "execution_count": null,
   "metadata": {},
   "outputs": [],
   "source": []
  }
 ],
 "metadata": {
  "kernelspec": {
   "display_name": "Python 3",
   "language": "python",
   "name": "python3"
  },
  "language_info": {
   "codemirror_mode": {
    "name": "ipython",
    "version": 3
   },
   "file_extension": ".py",
   "mimetype": "text/x-python",
   "name": "python",
   "nbconvert_exporter": "python",
   "pygments_lexer": "ipython3",
   "version": "3.8.3"
  }
 },
 "nbformat": 4,
 "nbformat_minor": 4
}
