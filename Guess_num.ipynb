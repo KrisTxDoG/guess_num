{
 "cells": [
  {
   "cell_type": "code",
   "execution_count": 11,
   "metadata": {},
   "outputs": [
    {
     "name": "stdout",
     "output_type": "stream",
     "text": [
      "67\n"
     ]
    }
   ],
   "source": [
    "import random\n",
    "\n",
    "r = random.randint(1,100) # 隨機整數\n",
    "\n",
    "print(r)"
   ]
  },
  {
   "cell_type": "code",
   "execution_count": 22,
   "metadata": {},
   "outputs": [
    {
     "name": "stdout",
     "output_type": "stream",
     "text": [
      "請猜數字：33\n",
      "比答案小\n",
      "請猜數字：50\n",
      "比答案小\n",
      "請猜數字：60\n",
      "比答案小\n",
      "請猜數字：70\n",
      "比答案小\n",
      "請猜數字：80\n",
      "比答案小\n",
      "請猜數字：90\n",
      "比答案大\n",
      "請猜數字：88\n",
      "比答案大\n",
      "請猜數字：86\n",
      "比答案大\n",
      "請猜數字：83\n",
      "比答案大\n",
      "請猜數字：82\n",
      "比答案大\n",
      "請猜數字：81\n",
      "你猜中了!\n"
     ]
    }
   ],
   "source": [
    "# 猜數字遊戲\n",
    "\n",
    "import random \n",
    "\n",
    "r = random.randint(1, 100)\n",
    "\n",
    "while True :\n",
    "    num = input('請猜數字：')\n",
    "    num = int(num)\n",
    "    \n",
    "    if num == r:\n",
    "        print('你猜中了!')\n",
    "        break\n",
    "    elif num > r :\n",
    "        print('比答案大')\n",
    "    elif num < r :\n",
    "        print('比答案小')\n",
    "        "
   ]
  },
  {
   "cell_type": "code",
   "execution_count": null,
   "metadata": {},
   "outputs": [],
   "source": []
  }
 ],
 "metadata": {
  "kernelspec": {
   "display_name": "Python 3",
   "language": "python",
   "name": "python3"
  },
  "language_info": {
   "codemirror_mode": {
    "name": "ipython",
    "version": 3
   },
   "file_extension": ".py",
   "mimetype": "text/x-python",
   "name": "python",
   "nbconvert_exporter": "python",
   "pygments_lexer": "ipython3",
   "version": "3.8.3"
  }
 },
 "nbformat": 4,
 "nbformat_minor": 4
}
